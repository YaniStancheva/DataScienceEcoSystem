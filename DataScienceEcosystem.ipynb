{
 "cells": [
  {
   "cell_type": "markdown",
   "id": "d650d129",
   "metadata": {},
   "source": [
    "# Data Science Tools and Ecosystem"
   ]
  },
  {
   "cell_type": "markdown",
   "id": "200dc613",
   "metadata": {},
   "source": [
    "\n",
    "## This notebook provides a summary of the tools and ecosystem within the field of Data Science."
   ]
  },
  {
   "cell_type": "markdown",
   "id": "065e15b2",
   "metadata": {},
   "source": [
    "### Some of the popular languages that Data Scientists use are:\n",
    "\n",
    "1. Python:\n",
    "2. R: \n",
    "3. SQL (Structured Query Language): \n",
    "4. Julia: \n",
    "5. Java: \n",
    "6. MATLAB:\n",
    "\n"
   ]
  },
  {
   "cell_type": "markdown",
   "id": "39bddc71",
   "metadata": {},
   "source": [
    "# Some of the commonly used libraries used by Data Scientists are:\n",
    "\n",
    "1. NumPy\n",
    "2. Pandas\n",
    "3. Matplotlib\n",
    "4. Scikit-learn\n"
   ]
  },
  {
   "cell_type": "markdown",
   "id": "341e3075",
   "metadata": {},
   "source": [
    "# Data Science Tools\n",
    "\n",
    "| Data Science Tools     |\n",
    "|------------------------|\n",
    "| Jupyter Notebooks      |\n",
    "| VS Code with Python    |\n",
    "| RStudio                |\n"
   ]
  },
  {
   "cell_type": "markdown",
   "id": "48d087f4",
   "metadata": {},
   "source": [
    "### Below are shown some examples of evaluating arithmetic expressions in Python."
   ]
  },
  {
   "cell_type": "code",
   "execution_count": 18,
   "id": "0b58676c",
   "metadata": {},
   "outputs": [
    {
     "data": {
      "text/plain": [
       "17"
      ]
     },
     "execution_count": 18,
     "metadata": {},
     "output_type": "execute_result"
    }
   ],
   "source": [
    "# This a simple arithmetic expression to mutiply then add integers\n",
    "\n",
    "expression = (3 * 4) + 5\n",
    "expression "
   ]
  },
  {
   "cell_type": "code",
   "execution_count": 19,
   "id": "0a5ad5e3",
   "metadata": {},
   "outputs": [
    {
     "data": {
      "text/plain": [
       "3.3333333333333335"
      ]
     },
     "execution_count": 19,
     "metadata": {},
     "output_type": "execute_result"
    }
   ],
   "source": [
    "# This will convert 200 minutes to hours by dividing by 60.\n",
    "hours_convert = 200 / 60\n",
    "hours_convert"
   ]
  },
  {
   "cell_type": "markdown",
   "id": "c4081e8b",
   "metadata": {},
   "source": [
    "# Objectives:\n",
    "\n",
    "- List popular languages for Data Science.\n",
    "- Listing the most common Data Science libraries.\n",
    "- Created a table showing Data Science tools.\n",
    "- Evaluated arithmetic expressions in Python."
   ]
  },
  {
   "cell_type": "markdown",
   "id": "a98e0665",
   "metadata": {},
   "source": [
    "## Author\n",
    " Yanitsa Stancheva"
   ]
  },
  {
   "cell_type": "code",
   "execution_count": null,
   "id": "835ec46e",
   "metadata": {},
   "outputs": [],
   "source": []
  }
 ],
 "metadata": {
  "kernelspec": {
   "display_name": "Python 3 (ipykernel)",
   "language": "python",
   "name": "python3"
  },
  "language_info": {
   "codemirror_mode": {
    "name": "ipython",
    "version": 3
   },
   "file_extension": ".py",
   "mimetype": "text/x-python",
   "name": "python",
   "nbconvert_exporter": "python",
   "pygments_lexer": "ipython3",
   "version": "3.10.1"
  }
 },
 "nbformat": 4,
 "nbformat_minor": 5
}
